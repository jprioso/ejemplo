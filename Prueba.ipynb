{
 "cells": [
  {
   "cell_type": "markdown",
   "metadata": {},
   "source": [
    "# Manejo de MarkDown en R-Studio    "
   ]
  },
  {
   "cell_type": "markdown",
   "metadata": {},
   "source": [
    "Pasos para Activar y Generar archivos MarkDown \n",
    "==\n",
    "Contenido \n",
    "--\n",
    "\n",
    "Paso1: Activación  \n",
    "Paso2: Creación PDF  \n",
    "Paso3: Cuerpo de trabajo    \n",
    "Paso4: Generar PDF  \n",
    "Paso5: Problemas de paquete   \n",
    "Paso6: Instalar paquete  "
   ]
  },
  {
   "cell_type": "markdown",
   "metadata": {},
   "source": [
    "Paso1: Activación\n",
    "--\n",
    "Markdown se activa en R-Studio al seleccionar en la opción File, New File. \n",
    "Una vez allí es seleccionado R markdown como se muestra en la imagen.\n",
    "![alt text](File-newfile-R markdown.png) \n",
    "\n"
   ]
  },
  {
   "cell_type": "markdown",
   "metadata": {},
   "source": [
    "Paso2: Creación y PDF\n",
    "==\n",
    "\n",
    "Una vez seleccionado R Markdown, es asigando el nombre del archivo, el usuario que lo creó y es elegida la opción que se desea.\n",
    "Para usar la opción PDF, es requerido cumplir con las especificaciones de Latex propias de cada sistema operativo. Al finalizar se da clik en OK. \n",
    "\n",
    "![alter text](nombre-autor-pdf-ok.png \"Título\")\n",
    "\n"
   ]
  },
  {
   "cell_type": "markdown",
   "metadata": {},
   "source": [
    "Paso3: Cuerpo de trabajo \n",
    "==  \n",
    "Cuando es activado el R markdown y seleccionado el PDF, la ventana de R-studio genera automáticamente la sección correspondiente al texto que se va a imprimir.\n",
    "\n",
    "![alter text](Genera cuerpo texto.png)\n",
    "\n"
   ]
  },
  {
   "cell_type": "markdown",
   "metadata": {},
   "source": [
    "Paso 4:  \n",
    "==\n",
    "\n",
    "La generación del PDF es realizado al dar clik en knit PDF. \n",
    "\n",
    "![alter text](Knitpdf.png)"
   ]
  },
  {
   "cell_type": "code",
   "execution_count": null,
   "metadata": {
    "collapsed": true
   },
   "outputs": [],
   "source": []
  },
  {
   "cell_type": "code",
   "execution_count": null,
   "metadata": {
    "collapsed": true
   },
   "outputs": [],
   "source": []
  },
  {
   "cell_type": "code",
   "execution_count": null,
   "metadata": {
    "collapsed": true
   },
   "outputs": [],
   "source": []
  }
 ],
 "metadata": {
  "kernelspec": {
   "display_name": "Python 3",
   "language": "python",
   "name": "python3"
  },
  "language_info": {
   "codemirror_mode": {
    "name": "ipython",
    "version": 3
   },
   "file_extension": ".py",
   "mimetype": "text/x-python",
   "name": "python",
   "nbconvert_exporter": "python",
   "pygments_lexer": "ipython3",
   "version": "3.5.1"
  }
 },
 "nbformat": 4,
 "nbformat_minor": 0
}
